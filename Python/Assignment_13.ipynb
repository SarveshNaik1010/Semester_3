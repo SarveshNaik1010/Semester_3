{
 "cells": [
  {
   "cell_type": "code",
   "execution_count": 3,
   "metadata": {},
   "outputs": [
    {
     "name": "stdout",
     "output_type": "stream",
     "text": [
      "First few rows of the DataFrame:\n",
      "          date region product  units_sold  revenue\n",
      "0  01-01-2024  North       A          10      100\n",
      "1  01-01-2024  South       B          15      150\n",
      "2  02-01-2024  North       A           8       80\n",
      "3  02-01-2024  South       B          12      120\n",
      "4  02-01-2024   West       C          20      200\n",
      "\n",
      "Information about the DataFrame:\n",
      "<class 'pandas.core.frame.DataFrame'>\n",
      "RangeIndex: 8 entries, 0 to 7\n",
      "Data columns (total 5 columns):\n",
      " #   Column      Non-Null Count  Dtype \n",
      "---  ------      --------------  ----- \n",
      " 0   date        8 non-null      object\n",
      " 1   region      8 non-null      object\n",
      " 2   product     8 non-null      object\n",
      " 3   units_sold  8 non-null      int64 \n",
      " 4   revenue     8 non-null      int64 \n",
      "dtypes: int64(2), object(3)\n",
      "memory usage: 452.0+ bytes\n",
      "Empty DataFrame\n",
      "Columns: []\n",
      "Index: []\n",
      "\n",
      "Basic statistics of the DataFrame:\n",
      "        units_sold     revenue\n",
      "count    8.000000    8.000000\n",
      "mean    14.375000  143.750000\n",
      "std      5.730557   57.305572\n",
      "min      8.000000   80.000000\n",
      "25%     10.000000  100.000000\n",
      "50%     13.500000  135.000000\n",
      "75%     16.250000  162.500000\n",
      "max     25.000000  250.000000\n",
      "\n",
      "Modified DataFrame has been saved to 'modified_data.csv'.\n"
     ]
    }
   ],
   "source": [
    "import pandas as pd;\n",
    "\n",
    "# Import CSV File\n",
    "# 1. Read data from a CSV file\n",
    "# Make sure the file \"data.csv\" exists in the same directory or provide the full path.\n",
    "df = pd.read_csv('sales.csv')\n",
    "\n",
    "# 2. Display the first few rows of the DataFrame\n",
    "print(\"First few rows of the DataFrame:\\n\", df.head())\n",
    "\n",
    "# 3. Display information about the DataFrame (column types, non-null counts, memory usage)\n",
    "print(\"\\nInformation about the DataFrame:\")\n",
    "print(df.info())\n",
    "\n",
    "# 4. Display basic statistics of the DataFrame (count, mean, std, min, etc.)\n",
    "print(\"\\nBasic statistics of the DataFrame:\\n\", df.describe())\n",
    "\n",
    "# 5. Modify the DataFrame (example: renaming a column, filtering rows, adding a new column)\n",
    "# Renaming the first column to 'Modified_Column'\n",
    "df_renamed = df.rename(columns={df.columns[0]: 'Modified_Column'})\n",
    "\n",
    "# Example modification: Add a new column that calculates some derived value\n",
    "# Assume there's a column named 'Value' and we want to create a 'Value_squared' column\n",
    "if 'Value' in df_renamed.columns:\n",
    "    df_renamed['Value_squared'] = df_renamed['Value'] ** 2\n",
    "\n",
    "# 6. Save the modified DataFrame to a new CSV file\n",
    "df_renamed.to_csv('modified_data.csv', index=False)  # Save without index\n",
    "\n",
    "print(\"\\nModified DataFrame has been saved to 'modified_data.csv'.\")"
   ]
  }
 ],
 "metadata": {
  "kernelspec": {
   "display_name": "Python 3",
   "language": "python",
   "name": "python3"
  },
  "language_info": {
   "codemirror_mode": {
    "name": "ipython",
    "version": 3
   },
   "file_extension": ".py",
   "mimetype": "text/x-python",
   "name": "python",
   "nbconvert_exporter": "python",
   "pygments_lexer": "ipython3",
   "version": "3.12.5"
  }
 },
 "nbformat": 4,
 "nbformat_minor": 2
}
