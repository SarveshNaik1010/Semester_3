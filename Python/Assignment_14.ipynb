{
 "cells": [
  {
   "cell_type": "code",
   "execution_count": 1,
   "metadata": {},
   "outputs": [
    {
     "name": "stdout",
     "output_type": "stream",
     "text": [
      "First few rows of the DataFrame (head()):\n",
      "       Name  Age  Salary Department\n",
      "0    Alice   25   50000         HR\n",
      "1      Bob   30   60000    Finance\n",
      "2  Charlie   35   70000         IT\n",
      "3    David   40   80000         HR\n",
      "4      Eva   28   55000         IT\n",
      "\n",
      "Last few rows of the DataFrame (tail()):\n",
      "     Name  Age  Salary Department\n",
      "5  Frank   33   62000    Finance\n",
      "6  Grace   26   58000         IT\n",
      "7  Helen   29   54000         HR\n",
      "8    Ivy   38   76000    Finance\n",
      "9   John   32   69000         HR\n",
      "\n",
      "Information about the DataFrame (info()):\n",
      "<class 'pandas.core.frame.DataFrame'>\n",
      "RangeIndex: 10 entries, 0 to 9\n",
      "Data columns (total 4 columns):\n",
      " #   Column      Non-Null Count  Dtype \n",
      "---  ------      --------------  ----- \n",
      " 0   Name        10 non-null     object\n",
      " 1   Age         10 non-null     int64 \n",
      " 2   Salary      10 non-null     int64 \n",
      " 3   Department  10 non-null     object\n",
      "dtypes: int64(2), object(2)\n",
      "memory usage: 452.0+ bytes\n",
      "\n",
      "Basic statistics of the DataFrame (describe()):\n",
      "              Age        Salary\n",
      "count  10.000000     10.000000\n",
      "mean   31.600000  63400.000000\n",
      "std     4.971027   9946.523681\n",
      "min    25.000000  50000.000000\n",
      "25%    28.250000  55750.000000\n",
      "50%    31.000000  61000.000000\n",
      "75%    34.500000  69750.000000\n",
      "max    40.000000  80000.000000\n",
      "\n",
      "Summary statistics for non-numeric columns (describe(include='object')):\n",
      "          Name Department\n",
      "count      10         10\n",
      "unique     10          3\n",
      "top     Alice         HR\n",
      "freq        1          4\n"
     ]
    }
   ],
   "source": [
    "import pandas as pd\n",
    "\n",
    "# 1. Create a DataFrame from a dictionary of lists\n",
    "data = {\n",
    "    'Name': ['Alice', 'Bob', 'Charlie', 'David', 'Eva', 'Frank', 'Grace', 'Helen', 'Ivy', 'John'],\n",
    "    'Age': [25, 30, 35, 40, 28, 33, 26, 29, 38, 32],\n",
    "    'Salary': [50000, 60000, 70000, 80000, 55000, 62000, 58000, 54000, 76000, 69000],\n",
    "    'Department': ['HR', 'Finance', 'IT', 'HR', 'IT', 'Finance', 'IT', 'HR', 'Finance', 'HR']\n",
    "}\n",
    "\n",
    "df = pd.DataFrame(data)\n",
    "\n",
    "# 2. Display the first few rows of the DataFrame\n",
    "print(\"First few rows of the DataFrame (head()):\\n\", df.head())\n",
    "\n",
    "# 3. Display the last few rows of the DataFrame\n",
    "print(\"\\nLast few rows of the DataFrame (tail()):\\n\", df.tail())\n",
    "\n",
    "# 4. Display information about the DataFrame (column types, non-null counts, memory usage)\n",
    "print(\"\\nInformation about the DataFrame (info()):\")\n",
    "df.info()\n",
    "\n",
    "# 5. Display basic statistics of the numeric columns in the DataFrame\n",
    "print(\"\\nBasic statistics of the DataFrame (describe()):\\n\", df.describe())\n",
    "\n",
    "# 6. Display summary statistics of non-numeric columns (optional)\n",
    "print(\"\\nSummary statistics for non-numeric columns (describe(include='object')):\\n\", df.describe(include='object'))\n"
   ]
  }
 ],
 "metadata": {
  "kernelspec": {
   "display_name": "Python 3",
   "language": "python",
   "name": "python3"
  },
  "language_info": {
   "codemirror_mode": {
    "name": "ipython",
    "version": 3
   },
   "file_extension": ".py",
   "mimetype": "text/x-python",
   "name": "python",
   "nbconvert_exporter": "python",
   "pygments_lexer": "ipython3",
   "version": "3.12.5"
  }
 },
 "nbformat": 4,
 "nbformat_minor": 2
}
