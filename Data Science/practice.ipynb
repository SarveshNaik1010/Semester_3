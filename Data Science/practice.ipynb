{
 "cells": [
  {
   "cell_type": "code",
   "execution_count": 2,
   "metadata": {},
   "outputs": [
    {
     "name": "stdout",
     "output_type": "stream",
     "text": [
      "Colors assigned to the nodes:\n",
      "Node 0: Color 1\n",
      "Node 1: Color 2\n",
      "Node 2: Color 2\n",
      "Node 3: Color 3\n",
      "Node 4: Color 1\n"
     ]
    }
   ],
   "source": [
    "def is_safe(graph, colors, node, color):\n",
    "    \"\"\"Check if it's safe to color the node with the given color.\"\"\"\n",
    "    for neighbor in range(len(graph)):\n",
    "        if graph[node][neighbor] == 1 and colors[neighbor] == color:\n",
    "            return False\n",
    "    return True\n",
    "\n",
    "def graph_coloring_util(graph, m, colors, node):\n",
    "    \"\"\"Utility function to solve the graph coloring problem.\"\"\"\n",
    "    if node == len(graph):\n",
    "        return True\n",
    "\n",
    "    for color in range(1, m + 1):\n",
    "        if is_safe(graph, colors, node, color):\n",
    "            colors[node] = color\n",
    "\n",
    "            if graph_coloring_util(graph, m, colors, node + 1):\n",
    "                return True\n",
    "\n",
    "            colors[node] = 0  # Backtrack\n",
    "\n",
    "    return False\n",
    "\n",
    "def graph_coloring(graph, m):\n",
    "    \"\"\"Main function to solve the graph coloring problem.\"\"\"\n",
    "    colors = [0] * len(graph)\n",
    "\n",
    "    if graph_coloring_util(graph, m, colors, 0):\n",
    "        return colors\n",
    "    else:\n",
    "        return None\n",
    "\n",
    "# Example usage\n",
    "# Adjacency matrix representation of the graph\n",
    "# Example: Graph with 5 nodes (0-4)\n",
    "graph = [\n",
    "    [0, 1, 1, 1, 0],  # Node 0 is connected to 1, 2, 3\n",
    "    [1, 0, 0, 1, 1],  # Node 1 is connected to 0, 3, 4\n",
    "    [1, 0, 0, 1, 0],  # Node 2 is connected to 0, 3\n",
    "    [1, 1, 1, 0, 0],  # Node 3 is connected to 0, 1, 2\n",
    "    [0, 1, 0, 0, 0]   # Node 4 is connected to 1\n",
    "]\n",
    "\n",
    "m = 3  # Number of colors\n",
    "result = graph_coloring(graph, m)\n",
    "\n",
    "if result:\n",
    "    print(\"Colors assigned to the nodes:\")\n",
    "    for node in range(len(result)):\n",
    "        print(f\"Node {node}: Color {result[node]}\")\n",
    "else:\n",
    "    print(\"No solution exists.\")\n"
   ]
  }
 ],
 "metadata": {
  "kernelspec": {
   "display_name": "Python 3",
   "language": "python",
   "name": "python3"
  },
  "language_info": {
   "codemirror_mode": {
    "name": "ipython",
    "version": 3
   },
   "file_extension": ".py",
   "mimetype": "text/x-python",
   "name": "python",
   "nbconvert_exporter": "python",
   "pygments_lexer": "ipython3",
   "version": "3.12.5"
  }
 },
 "nbformat": 4,
 "nbformat_minor": 2
}
