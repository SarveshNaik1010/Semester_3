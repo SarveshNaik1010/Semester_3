{
 "cells": [
  {
   "cell_type": "code",
   "execution_count": 2,
   "id": "157a39fd-e4b0-4715-8825-a929400a3dfc",
   "metadata": {},
   "outputs": [
    {
     "name": "stdout",
     "output_type": "stream",
     "text": [
      "Defaulting to user installation because normal site-packages is not writeable\n",
      "Collecting pandas\n",
      "  Downloading pandas-2.2.2-cp312-cp312-win_amd64.whl.metadata (19 kB)\n",
      "Collecting numpy>=1.26.0 (from pandas)\n",
      "  Downloading numpy-2.0.1-cp312-cp312-win_amd64.whl.metadata (60 kB)\n",
      "Requirement already satisfied: python-dateutil>=2.8.2 in c:\\users\\hp\\appdata\\roaming\\python\\python312\\site-packages (from pandas) (2.9.0.post0)\n",
      "Collecting pytz>=2020.1 (from pandas)\n",
      "  Downloading pytz-2024.1-py2.py3-none-any.whl.metadata (22 kB)\n",
      "Collecting tzdata>=2022.7 (from pandas)\n",
      "  Downloading tzdata-2024.1-py2.py3-none-any.whl.metadata (1.4 kB)\n",
      "Requirement already satisfied: six>=1.5 in c:\\users\\hp\\appdata\\roaming\\python\\python312\\site-packages (from python-dateutil>=2.8.2->pandas) (1.16.0)\n",
      "Downloading pandas-2.2.2-cp312-cp312-win_amd64.whl (11.5 MB)\n",
      "   ---------------------------------------- 0.0/11.5 MB ? eta -:--:--\n",
      "   ---------------------------------------- 0.0/11.5 MB ? eta -:--:--\n",
      "    --------------------------------------- 0.3/11.5 MB ? eta -:--:--\n",
      "   - -------------------------------------- 0.5/11.5 MB 840.2 kB/s eta 0:00:14\n",
      "   - -------------------------------------- 0.5/11.5 MB 840.2 kB/s eta 0:00:14\n",
      "   -- ------------------------------------- 0.8/11.5 MB 860.9 kB/s eta 0:00:13\n",
      "   ---- ----------------------------------- 1.3/11.5 MB 1.1 MB/s eta 0:00:10\n",
      "   ----- ---------------------------------- 1.6/11.5 MB 1.2 MB/s eta 0:00:09\n",
      "   ------- -------------------------------- 2.1/11.5 MB 1.4 MB/s eta 0:00:07\n",
      "   --------- ------------------------------ 2.6/11.5 MB 1.5 MB/s eta 0:00:06\n",
      "   ---------- ----------------------------- 3.1/11.5 MB 1.6 MB/s eta 0:00:06\n",
      "   -------------------- ------------------- 5.8/11.5 MB 2.7 MB/s eta 0:00:03\n",
      "   --------------------- ------------------ 6.3/11.5 MB 2.7 MB/s eta 0:00:02\n",
      "   ---------------------------- ----------- 8.1/11.5 MB 3.2 MB/s eta 0:00:02\n",
      "   --------------------------------- ------ 9.7/11.5 MB 3.5 MB/s eta 0:00:01\n",
      "   ------------------------------------- -- 10.7/11.5 MB 3.7 MB/s eta 0:00:01\n",
      "   ---------------------------------------- 11.5/11.5 MB 3.7 MB/s eta 0:00:00\n",
      "Downloading numpy-2.0.1-cp312-cp312-win_amd64.whl (16.3 MB)\n",
      "   ---------------------------------------- 0.0/16.3 MB ? eta -:--:--\n",
      "   --- ------------------------------------ 1.3/16.3 MB 9.6 MB/s eta 0:00:02\n",
      "   ------ --------------------------------- 2.6/16.3 MB 6.6 MB/s eta 0:00:03\n",
      "   --------- ------------------------------ 3.9/16.3 MB 6.3 MB/s eta 0:00:02\n",
      "   ------------ --------------------------- 5.0/16.3 MB 6.0 MB/s eta 0:00:02\n",
      "   -------------- ------------------------- 6.0/16.3 MB 5.8 MB/s eta 0:00:02\n",
      "   ------------------ --------------------- 7.3/16.3 MB 5.8 MB/s eta 0:00:02\n",
      "   --------------------- ------------------ 8.9/16.3 MB 6.0 MB/s eta 0:00:02\n",
      "   ------------------------- -------------- 10.2/16.3 MB 6.2 MB/s eta 0:00:01\n",
      "   ---------------------------- ----------- 11.5/16.3 MB 6.2 MB/s eta 0:00:01\n",
      "   ------------------------------- -------- 12.8/16.3 MB 6.1 MB/s eta 0:00:01\n",
      "   ---------------------------------- ----- 14.2/16.3 MB 6.1 MB/s eta 0:00:01\n",
      "   -------------------------------------- - 15.5/16.3 MB 6.1 MB/s eta 0:00:01\n",
      "   ---------------------------------------  16.0/16.3 MB 6.1 MB/s eta 0:00:01\n",
      "   ---------------------------------------  16.0/16.3 MB 6.1 MB/s eta 0:00:01\n",
      "   ---------------------------------------- 16.3/16.3 MB 5.2 MB/s eta 0:00:00\n",
      "Downloading pytz-2024.1-py2.py3-none-any.whl (505 kB)\n",
      "Downloading tzdata-2024.1-py2.py3-none-any.whl (345 kB)\n",
      "Installing collected packages: pytz, tzdata, numpy, pandas\n",
      "Successfully installed numpy-2.0.1 pandas-2.2.2 pytz-2024.1 tzdata-2024.1\n"
     ]
    }
   ],
   "source": [
    "!pip install pandas"
   ]
  },
  {
   "cell_type": "code",
   "execution_count": 5,
   "id": "7c18dd7a-359c-49fa-b3eb-ebef67e0f7fe",
   "metadata": {},
   "outputs": [
    {
     "name": "stdout",
     "output_type": "stream",
     "text": [
      "      name  roll no\n",
      "0  Sarvesh       12\n",
      "1   Anurag       23\n",
      "2     Amey        1\n",
      "3  Praneel        2\n"
     ]
    }
   ],
   "source": [
    "import pandas as pd\n",
    "\n",
    "students = [['Sarvesh', 12], ['Anurag', 23], ['Amey', 1], ['Praneel', 2]]\n",
    "studentsDataFrame = pd.DataFrame(students, columns=[\"name\", \"roll no\"])\n",
    "print(studentsDataFrame)"
   ]
  },
  {
   "cell_type": "code",
   "execution_count": null,
   "id": "abb4008f-232c-43b6-9482-d00438d685bb",
   "metadata": {},
   "outputs": [],
   "source": []
  },
  {
   "cell_type": "code",
   "execution_count": null,
   "id": "8b7511ba-3c74-46fe-b4d1-14350b79e681",
   "metadata": {},
   "outputs": [],
   "source": []
  }
 ],
 "metadata": {
  "kernelspec": {
   "display_name": "Python 3 (ipykernel)",
   "language": "python",
   "name": "python3"
  },
  "language_info": {
   "codemirror_mode": {
    "name": "ipython",
    "version": 3
   },
   "file_extension": ".py",
   "mimetype": "text/x-python",
   "name": "python",
   "nbconvert_exporter": "python",
   "pygments_lexer": "ipython3",
   "version": "3.12.5"
  }
 },
 "nbformat": 4,
 "nbformat_minor": 5
}
